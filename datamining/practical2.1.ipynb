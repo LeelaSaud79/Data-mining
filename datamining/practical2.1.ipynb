{
 "cells": [
  {
   "cell_type": "markdown",
   "id": "0369be8b-a2c6-4fc7-b1d5-2e066e711271",
   "metadata": {},
   "source": [
    "#Lab 2.1 : Data Cleaning"
   ]
  },
  {
   "cell_type": "code",
   "execution_count": 1,
   "id": "757acdd7-5aef-44cc-8f8e-fe3cb118739c",
   "metadata": {},
   "outputs": [],
   "source": [
    "import pandas as pd\n",
    "import numpy as np"
   ]
  },
  {
   "cell_type": "code",
   "execution_count": 2,
   "id": "419815e1-6aaf-4732-be3a-dc02e50465ce",
   "metadata": {},
   "outputs": [
    {
     "name": "stdout",
     "output_type": "stream",
     "text": [
      "Original Data\n",
      "   First Name  Gender    Salary  Bonus %                  Team\n",
      "0     Douglas    Male   97308.0    6.945             Marketing\n",
      "1     Douglas    Male   97308.0    6.945             Marketing\n",
      "2     Douglas    Male   97310.0    6.945             Marketing\n",
      "3      Thomas    Male   61933.0    4.170                   NaN\n",
      "4       Maria  Female  130590.0   11.858               Finance\n",
      "5       Jerry    Male  138705.0    9.340                   Fin\n",
      "6       Larry    Male       NaN    1.389       Client Services\n",
      "7      Dennis    Male  115163.0   10.125                 Legal\n",
      "8        Ruby  Female   65476.0   10.012               Product\n",
      "9         NaN  Female   45906.0   11.598                   Fin\n",
      "10     Angela  Female   95570.0   18.523           Engineering\n",
      "11      Maria  Female  130590.0   11.858               Finance\n",
      "12    Frances  Female  139852.0    7.524  Business Development\n",
      "13     Louise  Female   63241.0   15.132                   NaN\n",
      "14      Julie  Female  102508.0   12.637                 Legal\n",
      "15    Brandon    Male  112807.0   17.492       Human Resources\n",
      "16       Gary    Male  109831.0    5.831                 Sales\n",
      "17   Kimberly  Female       NaN   14.543               Finance\n",
      "18    Lillian  Female   59414.0    1.256               Product\n",
      "19     Jeremy    Male   90370.0    7.369       Human Resources\n",
      "20      Shawn    Male  111737.0    6.414               Product\n",
      "21      Diana  Female  132940.0   19.082       Client Services\n",
      "22      Donna  Female   81014.0    1.894               Product\n",
      "23       Lois     NaN   64714.0    4.934                 Legal\n",
      "24    Matthew    Male  100612.0   13.645                   Mkt\n"
     ]
    }
   ],
   "source": [
    "data = pd.read_csv('employees.csv')\n",
    "print(\"Original Data\")\n",
    "print(data[0:25])"
   ]
  },
  {
   "cell_type": "code",
   "execution_count": 3,
   "id": "88e961f5-6bb9-4028-a2e3-4416db27f9af",
   "metadata": {},
   "outputs": [],
   "source": [
    "# Removing missing values\n",
    "data=data.dropna(axis=0)\n"
   ]
  },
  {
   "cell_type": "code",
   "execution_count": 4,
   "id": "27932068-73f1-40d3-b8f6-c5416fb2b0ff",
   "metadata": {},
   "outputs": [],
   "source": [
    "# Removing column Boonus %\n",
    "del data['Bonus %']\n"
   ]
  },
  {
   "cell_type": "code",
   "execution_count": 5,
   "id": "85b023b5-7848-4195-8fc7-2433a9a7ad49",
   "metadata": {},
   "outputs": [],
   "source": [
    "# Correcting Inconsitencies among values\n",
    "data['Team']=data['Team'].str.replace('Fin','Finance')\n",
    "data['Team']=data['Team'].str.replace('Mkt','Marketing')\n",
    "data['Team']=data['Team'].str.replace('Financeance','Finance')\n"
   ]
  },
  {
   "cell_type": "code",
   "execution_count": 6,
   "id": "063d832b-52ce-4397-9855-9ddfb37d862a",
   "metadata": {},
   "outputs": [
    {
     "name": "stdout",
     "output_type": "stream",
     "text": [
      "Cleaned Data\n",
      "   First Name  Gender    Salary                  Team\n",
      "0     Douglas    Male   97308.0             Marketing\n",
      "1     Douglas    Male   97308.0             Marketing\n",
      "2     Douglas    Male   97310.0             Marketing\n",
      "4       Maria  Female  130590.0               Finance\n",
      "5       Jerry    Male  138705.0               Finance\n",
      "7      Dennis    Male  115163.0                 Legal\n",
      "8        Ruby  Female   65476.0               Product\n",
      "10     Angela  Female   95570.0           Engineering\n",
      "11      Maria  Female  130590.0               Finance\n",
      "12    Frances  Female  139852.0  Business Development\n",
      "14      Julie  Female  102508.0                 Legal\n",
      "15    Brandon    Male  112807.0       Human Resources\n",
      "16       Gary    Male  109831.0                 Sales\n",
      "18    Lillian  Female   59414.0               Product\n",
      "19     Jeremy    Male   90370.0       Human Resources\n",
      "20      Shawn    Male  111737.0               Product\n",
      "21      Diana  Female  132940.0       Client Services\n",
      "22      Donna  Female   81014.0               Product\n",
      "24    Matthew    Male  100612.0             Marketing\n",
      "27       John    Male   97950.0       Client Services\n",
      "29      Craig    Male   37598.0             Marketing\n",
      "31      Terry    Male  124008.0       Client Services\n",
      "32   Benjamin    Male   79529.0                 Legal\n",
      "33  Christina  Female  118780.0           Engineering\n",
      "36       Jean  Female  119082.0  Business Development\n"
     ]
    }
   ],
   "source": [
    "print(\"Cleaned Data\")\n",
    "print(data[0:25])"
   ]
  },
  {
   "cell_type": "code",
   "execution_count": 7,
   "id": "810e161a-94ba-4f7f-9846-79bef9e25e6e",
   "metadata": {},
   "outputs": [
    {
     "name": "stdout",
     "output_type": "stream",
     "text": [
      "Successfully Cleaned...\n"
     ]
    }
   ],
   "source": [
    "data.to_csv('employees_cleaned.csv', index=False)\n",
    "print(\"Successfully Cleaned...\")\n"
   ]
  },
  {
   "cell_type": "code",
   "execution_count": null,
   "id": "1ff65f86-b5ac-475a-a069-540a06b00476",
   "metadata": {},
   "outputs": [],
   "source": []
  }
 ],
 "metadata": {
  "kernelspec": {
   "display_name": "Python 3 (ipykernel)",
   "language": "python",
   "name": "python3"
  },
  "language_info": {
   "codemirror_mode": {
    "name": "ipython",
    "version": 3
   },
   "file_extension": ".py",
   "mimetype": "text/x-python",
   "name": "python",
   "nbconvert_exporter": "python",
   "pygments_lexer": "ipython3",
   "version": "3.12.0"
  }
 },
 "nbformat": 4,
 "nbformat_minor": 5
}
