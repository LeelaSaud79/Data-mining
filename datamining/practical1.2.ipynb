{
 "cells": [
  {
   "cell_type": "markdown",
   "id": "f030cbed-27c2-4b8c-a926-8168c716a100",
   "metadata": {},
   "source": [
    "#1.2 Implementation of min-max scaler "
   ]
  },
  {
   "cell_type": "code",
   "execution_count": 1,
   "id": "7a1dfca2-d7aa-4b81-b2e9-38ec57a16034",
   "metadata": {},
   "outputs": [
    {
     "name": "stdout",
     "output_type": "stream",
     "text": [
      "Original Data\n",
      "   Salary  Age\n",
      "0   45000   42\n",
      "1   32000   26\n",
      "2   58000   48\n",
      "3   37000   32\n",
      "\n",
      "Scaled Data\n",
      "     Salary       Age\n",
      "0  0.500000  0.727273\n",
      "1  0.000000  0.000000\n",
      "2  1.000000  1.000000\n",
      "3  0.192308  0.272727\n"
     ]
    }
   ],
   "source": [
    "\n",
    "import pandas as pd\n",
    "class MinMaxNorm:\n",
    "  def scale(self,d):\n",
    "    for i in d.columns:\n",
    "      min=d[i].min()\n",
    "      max=d[i].max()\n",
    "      d[i]=(d[i]-min)/(max-min)\n",
    "    return d\n",
    "data=pd.DataFrame([[45000,42],[32000,26],[58000,48],[37000,32]],columns=['Salary','Age'])\n",
    "print(\"Original Data\")\n",
    "print(data)\n",
    "s=MinMaxNorm()\n",
    "print(\"\\nScaled Data\")\n",
    "df=s.scale(data)\n",
    "print(df)\n",
    "\n"
   ]
  },
  {
   "cell_type": "code",
   "execution_count": null,
   "id": "48606465-4b50-413a-bb83-f1267a58a517",
   "metadata": {},
   "outputs": [],
   "source": []
  }
 ],
 "metadata": {
  "kernelspec": {
   "display_name": "Python 3 (ipykernel)",
   "language": "python",
   "name": "python3"
  },
  "language_info": {
   "codemirror_mode": {
    "name": "ipython",
    "version": 3
   },
   "file_extension": ".py",
   "mimetype": "text/x-python",
   "name": "python",
   "nbconvert_exporter": "python",
   "pygments_lexer": "ipython3",
   "version": "3.12.0"
  }
 },
 "nbformat": 4,
 "nbformat_minor": 5
}
