{
 "cells": [
  {
   "cell_type": "code",
   "execution_count": 3,
   "id": "6d2ffd46-be45-4c33-8ea0-0622588d6390",
   "metadata": {},
   "outputs": [
    {
     "name": "stdout",
     "output_type": "stream",
     "text": [
      "{('Milk',): 2, ('Milk', 'Saffron'): 2, ('Bread', 'Milk'): 1, ('Bread', 'Milk', 'Saffron'): 1, ('Wafer',): 2, ('Saffron', 'Wafer'): 1, ('Bread', 'Wafer'): 2, ('Bread', 'Saffron', 'Wafer'): 1, ('Bread',): 3, ('Saffron',): 3, ('Bread', 'Saffron'): 2}\n",
      "Generating rules with min confidence threshold=0.5\n",
      "{('Milk',): (('Bread', 'Saffron'), 0.5), ('Saffron',): (('Bread',), 0.6666666666666666), ('Bread', 'Milk'): (('Saffron',), 1.0), ('Bread', 'Saffron'): (('Wafer',), 0.5), ('Milk', 'Saffron'): (('Bread',), 0.5), ('Wafer',): (('Bread', 'Saffron'), 0.5), ('Bread',): (('Saffron',), 0.6666666666666666), ('Bread', 'Wafer'): (('Saffron',), 0.5), ('Saffron', 'Wafer'): (('Bread',), 1.0)}\n"
     ]
    }
   ],
   "source": [
    "# 4.2 Sample code to do FP-Growth in Python\n",
    "import pyfpgrowth\n",
    "# Creating Sample Transactions\n",
    "transactions = [\n",
    "     ['Milk', 'Bread', 'Saffron'],\n",
    "     ['Milk', 'Saffron'],\n",
    "     ['Bread', 'Saffron','Wafer'],\n",
    "     ['Bread','Wafer'],\n",
    " ]\n",
    " \n",
    "#Finding the frequent patterns with min support threshold=0.5\n",
    "FrequentPatterns=pyfpgrowth.find_frequent_patterns(transactions=transactions,support_threshold=0.5)\n",
    "print(FrequentPatterns)\n",
    "\n",
    "# Generating rules with min confidence threshold=0.5\n",
    "print(\"Generating rules with min confidence threshold=0.5\")\n",
    "Rules=pyfpgrowth.generate_association_rules(patterns=FrequentPatterns,confidence_threshold=0.5)\n",
    "print(Rules)"
   ]
  },
  {
   "cell_type": "code",
   "execution_count": null,
   "id": "148a341d-e15a-4297-b512-8b8b55ad5184",
   "metadata": {},
   "outputs": [],
   "source": []
  }
 ],
 "metadata": {
  "kernelspec": {
   "display_name": "Python 3 (ipykernel)",
   "language": "python",
   "name": "python3"
  },
  "language_info": {
   "codemirror_mode": {
    "name": "ipython",
    "version": 3
   },
   "file_extension": ".py",
   "mimetype": "text/x-python",
   "name": "python",
   "nbconvert_exporter": "python",
   "pygments_lexer": "ipython3",
   "version": "3.12.0"
  }
 },
 "nbformat": 4,
 "nbformat_minor": 5
}
