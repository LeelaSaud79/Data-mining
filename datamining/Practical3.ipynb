{
 "cells": [
  {
   "cell_type": "code",
   "execution_count": 5,
   "id": "095c46d9-4bf0-4f30-88a5-72c29e95c97f",
   "metadata": {},
   "outputs": [],
   "source": [
    "import pandas as pd \n",
    "import numpy as np\n",
    "import matplotlib.pyplot as plt\n",
    "#New Variable\n",
    "from dateutil.relativedelta import *\n",
    "from datetime import *"
   ]
  },
  {
   "cell_type": "code",
   "execution_count": 6,
   "id": "80fe6d79-e201-4a0f-991e-6b25599b3411",
   "metadata": {},
   "outputs": [
    {
     "name": "stdout",
     "output_type": "stream",
     "text": [
      "                name         dob  age is_student  target\n",
      "0      Thomas Crosby  1996-07-16   27      False  809.97\n",
      "1     Brandon Reeves  1957-11-30   66      False  866.41\n",
      "2     Maria Castillo  1981-02-03   43      False  776.92\n",
      "3        Carol Jones  1990-09-17   33       True  929.72\n",
      "4    Robert Thompson  1967-06-09   56       True  923.66\n",
      "..               ...         ...  ...        ...     ...\n",
      "99      Barbara Ford  1975-01-23   49      False  937.97\n",
      "100   Maria Castillo  1981-02-03   43      False  776.92\n",
      "101      Edward Hood  1984-01-10   40      False  975.77\n",
      "102    Jeffrey Smith  1996-09-29   27      False  996.08\n",
      "103   Hayley Hoffman  1958-06-23   65      False  825.04\n",
      "\n",
      "[104 rows x 5 columns]\n"
     ]
    }
   ],
   "source": [
    "df = pd.read_csv(\"student-data.csv\")  \n",
    "def get_age(dob):\n",
    "    now = datetime.now()\n",
    "    age = relativedelta(now, dob).years\n",
    "    return age\n",
    "  \n",
    "\n",
    "\n"
   ]
  },
  {
   "cell_type": "code",
   "execution_count": 8,
   "id": "2489be3b-6e51-4791-b3d3-c779b9809b56",
   "metadata": {},
   "outputs": [],
   "source": [
    "df['age'] = pd.to_datetime(df['dob']).apply(get_age)\n",
    "\n",
    "data = df.filter(['name','dob','age','is_student','target'])\n"
   ]
  },
  {
   "cell_type": "code",
   "execution_count": 9,
   "id": "27079023-bd1e-4643-94a6-44a5f0ced855",
   "metadata": {},
   "outputs": [
    {
     "name": "stdout",
     "output_type": "stream",
     "text": [
      "                name         dob  age is_student  target\n",
      "0      Thomas Crosby  1996-07-16   27      False  809.97\n",
      "1     Brandon Reeves  1957-11-30   66      False  866.41\n",
      "2     Maria Castillo  1981-02-03   43      False  776.92\n",
      "3        Carol Jones  1990-09-17   33       True  929.72\n",
      "4    Robert Thompson  1967-06-09   56       True  923.66\n",
      "..               ...         ...  ...        ...     ...\n",
      "99      Barbara Ford  1975-01-23   49      False  937.97\n",
      "100   Maria Castillo  1981-02-03   43      False  776.92\n",
      "101      Edward Hood  1984-01-10   40      False  975.77\n",
      "102    Jeffrey Smith  1996-09-29   27      False  996.08\n",
      "103   Hayley Hoffman  1958-06-23   65      False  825.04\n",
      "\n",
      "[104 rows x 5 columns]\n"
     ]
    }
   ],
   "source": [
    "print(data)\n"
   ]
  },
  {
   "cell_type": "code",
   "execution_count": null,
   "id": "b9d14c30-b5a3-4d58-81e1-eca35726c4ff",
   "metadata": {},
   "outputs": [],
   "source": []
  }
 ],
 "metadata": {
  "kernelspec": {
   "display_name": "Python 3 (ipykernel)",
   "language": "python",
   "name": "python3"
  },
  "language_info": {
   "codemirror_mode": {
    "name": "ipython",
    "version": 3
   },
   "file_extension": ".py",
   "mimetype": "text/x-python",
   "name": "python",
   "nbconvert_exporter": "python",
   "pygments_lexer": "ipython3",
   "version": "3.12.0"
  }
 },
 "nbformat": 4,
 "nbformat_minor": 5
}
